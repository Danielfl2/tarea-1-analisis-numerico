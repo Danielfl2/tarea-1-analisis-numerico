{
 "cells": [
  {
   "cell_type": "markdown",
   "id": "f9de6112-20f5-4d86-9f55-89f3954debbf",
   "metadata": {},
   "source": [
    "# Método del Polinomio Característico"
   ]
  },
  {
   "cell_type": "code",
   "execution_count": 1,
   "id": "deb59520-74a5-4aae-96d2-0f8911b7ac63",
   "metadata": {},
   "outputs": [],
   "source": [
    "# Importar las librearias necesarias\n",
    "import numpy as np\n",
    "import sympy as sp\n",
    "from sympy.abc import x\n",
    "\n",
    "# Definir el método de bisección para encontrar las raíces del polinomio característico\n",
    "def bisection(char_poly, a, b, tol, max_iter):\n",
    "    \"\"\"\n",
    "    Parámetros:\n",
    "    - char_poly: El polinomio característico simbólico cuya raíz queremos encontrar.\n",
    "    - a, b: El intervalo [a, b] donde se sospecha que existe la raíz.\n",
    "    - tol: La tolerancia para la precisión de la raíz.\n",
    "    - max_iter: El número máximo de iteraciones permitidas.\n",
    "\n",
    "    Retorna:\n",
    "    - La raíz del polinomio dentro de la tolerancia dada, o None si no se encuentra ninguna raíz.\n",
    "    \"\"\"\n",
    "\n",
    "    # Evaluar el polinomio en el extremo 'a' \n",
    "    fa = float(char_poly.evalf(subs={x:a}))\n",
    "\n",
    "    # Comprobar si a es un raíz\n",
    "    if fa == 0:\n",
    "        return a\n",
    "\n",
    "    # Evaluar el polinomio en el extremo 'b'\n",
    "    fb = float(char_poly.evalf(subs={x:b}))\n",
    "\n",
    "    # Comprobar si b es un raíz\n",
    "    if fb == 0:\n",
    "        return b\n",
    "\n",
    "    # Comprobar si el intervalo inicial [a, b] es válido\n",
    "    if np.sign(fa) * fb > 0:\n",
    "        # Ambos tienen el mismo signo, por lo que no hay raíz en [a, b]\n",
    "        return None\n",
    "        \n",
    "    # Realizar el método de bisección por 'max_iter' iteraciones\n",
    "    for i in range(max_iter):\n",
    "        # Calcular el punto medio del intervalo\n",
    "        p = a + (b - a) / 2\n",
    "        # Evaluar el polinomio en el punto medio\n",
    "        fp = float(char_poly.evalf(subs={x:p}))\n",
    "\n",
    "        # Comprobar la convergencia\n",
    "        # Si f(p) está cerca de 0 o el ancho del intervalo es menor que la tolerancia\n",
    "        if (fp == 0) or ((b - a) / 2 < tol):\n",
    "            return p \n",
    "\n",
    "        # Actualizar el intervalo según el signo de f(p)\n",
    "        elif np.sign(fa) * fp < 0:\n",
    "            b = p\n",
    "        elif np.sign(fb) * fp < 0:\n",
    "            a = p\n",
    "            \n",
    "    # Si se alcanza el número máximo de iteraciones sin convergencia\n",
    "    return None\n"
   ]
  },
  {
   "cell_type": "code",
   "execution_count": 2,
   "id": "765e6db4-4c97-4e4d-84af-1b928884eb32",
   "metadata": {},
   "outputs": [
    {
     "name": "stdout",
     "output_type": "stream",
     "text": [
      "0\n",
      "1.9999990463256836\n"
     ]
    }
   ],
   "source": [
    "# Definir una matriz nxn 'A'\n",
    "A = sp.Matrix([[1, 1],\n",
    "               [1, 1]])\n",
    "\n",
    "# Crear una matriz identidad 2x2 'I'\n",
    "I = sp.eye(2)\n",
    "\n",
    "# Calcular el polinomio característico de la matriz 'A'\n",
    "# char_poly = det(A - xI), donde x es el valor propio\n",
    "char_poly = (A-(x*I)).det()\n",
    "\n",
    "# Crear un conjunto vacío para almacenar las raíces encontradas\n",
    "roots = set()\n",
    "\n",
    "start = -1000 # Establecer el valor inicial del intervalo\n",
    "end = 1000 # Establecer el valor final del intervalo\n",
    "step = 1 # Establecer el paso de la iteración\n",
    "\n",
    "# Iterar sobre un rango de valores [start, end]\n",
    "for i in range(start, end+1, step):\n",
    "    # Llamar al método de bisección para encontrar una raíz en el intervalo [i, i+1]\n",
    "    ans = bisection(char_poly, i, i+1, 1e-6, 1000)\n",
    "\n",
    "    # Si se encuentra una raíz, añadirla al conjunto de raíces\n",
    "    if ans != None:\n",
    "        roots.add(ans)\n",
    "\n",
    "# Imprimir todas las raíces encontradas\n",
    "for root in roots:\n",
    "    print(root)\n",
    "    "
   ]
  },
  {
   "cell_type": "code",
   "execution_count": null,
   "id": "b6047dfd-5df6-4963-bb5e-197357272a75",
   "metadata": {},
   "outputs": [],
   "source": []
  }
 ],
 "metadata": {
  "kernelspec": {
   "display_name": "Python 3 (ipykernel)",
   "language": "python",
   "name": "python3"
  },
  "language_info": {
   "codemirror_mode": {
    "name": "ipython",
    "version": 3
   },
   "file_extension": ".py",
   "mimetype": "text/x-python",
   "name": "python",
   "nbconvert_exporter": "python",
   "pygments_lexer": "ipython3",
   "version": "3.10.1"
  }
 },
 "nbformat": 4,
 "nbformat_minor": 5
}
