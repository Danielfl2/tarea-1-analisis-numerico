{
 "cells": [
  {
   "cell_type": "code",
   "execution_count": 2,
   "metadata": {},
   "outputs": [],
   "source": [
    "import numpy as np"
   ]
  },
  {
   "cell_type": "code",
   "execution_count": 4,
   "metadata": {},
   "outputs": [],
   "source": [
    "def descomposicionQR(A):\n",
    "    \n",
    "    n = A.shape[0]\n",
    "    \n",
    "    #Se inicializan Q y R con ceros.\n",
    "    Q = np.zeros( (n,n), dtype=float ) #Q recibira los vectores ortonormales de A\n",
    "    R = np.zeros( (n,n), dtype=float ) #R recibira los coeficientes de proyeccion \n",
    "\n",
    "    for i in range(n):\n",
    "\n",
    "        v = A[:, i]\n",
    "\n",
    "        #Se ortogonalizan los vectores de A\n",
    "        for j in range(i):\n",
    "            \n",
    "           \n",
    "            R[j,i] = np.dot(Q[:,j],v) #Se guardan por encima de la diagonal los coeficientes de proyeccion \n",
    "            v = v - R[j, i]*Q[:,j] #Se calcula la proyección \n",
    "\n",
    "        R[i,i] = np.linalg.norm(v) #Se guardan en la diagonal las normas de los vectores ortogonales de A\n",
    "        Q[:,i] = v / R[i,i]  #Se guarda en Q los vectores ortonormales de A\n",
    "\n",
    "    return Q, R"
   ]
  },
  {
   "cell_type": "code",
   "execution_count": 8,
   "metadata": {},
   "outputs": [],
   "source": [
    "def metodoQR(A, tol=1e-8, max_iter = 10000):\n",
    "    n = A.shape[0]\n",
    "\n",
    "    A_k = A.copy()\n",
    "\n",
    "    for _ in range(max_iter):\n",
    "        Q, R = descomposicionQR(A_k) #Se factoriza A como QR\n",
    "\n",
    "        A_k = np.dot(R,Q) #Se reescribe A como RQ\n",
    "        if np.sum(np.abs(A_k - np.diag(np.diagonal(A_k)))) < tol:\n",
    "            print(\"Si cumplio error.\")\n",
    "            return np.diagonal(A_k) #Si los elementos por encima de la diagonal son lo suficientemente pequeños que retorne la diagonal\n",
    "        \n",
    "    return np.diagonal(A_k)"
   ]
  },
  {
   "cell_type": "code",
   "execution_count": null,
   "metadata": {},
   "outputs": [
    {
     "name": "stdout",
     "output_type": "stream",
     "text": [
      "[5. 1.]\n"
     ]
    }
   ],
   "source": [
    "#Valores propios esperados [1,5]\n",
    "A = np.array( [ [2,1], [3,4]  ])\n",
    "eigenvalues = metodoQR(A)\n",
    "print(eigenvalues)"
   ]
  },
  {
   "cell_type": "code",
   "execution_count": null,
   "metadata": {},
   "outputs": [
    {
     "name": "stdout",
     "output_type": "stream",
     "text": [
      "[6. 1.]\n"
     ]
    }
   ],
   "source": [
    "#Valores propios esperados [6,1]\n",
    "A = np.array( [ [3,2], [3,4]  ])\n",
    "eigenvalues = metodoQR(A)\n",
    "print(eigenvalues)"
   ]
  },
  {
   "cell_type": "code",
   "execution_count": null,
   "metadata": {},
   "outputs": [
    {
     "name": "stdout",
     "output_type": "stream",
     "text": [
      "[5. 1.]\n"
     ]
    }
   ],
   "source": [
    "#Valores propios esperados [5,1]\n",
    "A = np.array( [ [2,3], [1,4]  ])\n",
    "eigenvalues = metodoQR(A)\n",
    "print(eigenvalues)"
   ]
  },
  {
   "cell_type": "code",
   "execution_count": null,
   "metadata": {},
   "outputs": [
    {
     "name": "stdout",
     "output_type": "stream",
     "text": [
      "[ 4.50701864  0.77812384 -0.28514248]\n"
     ]
    }
   ],
   "source": [
    "#Valores propios esperados ~[4.507, 0.778, -0.285]\n",
    "A = np.array( [ [1,1,2], [2,1,1], [1,1,3]  ])\n",
    "eigenvalues = metodoQR(A)\n",
    "print(eigenvalues)"
   ]
  },
  {
   "cell_type": "code",
   "execution_count": null,
   "metadata": {},
   "outputs": [
    {
     "name": "stdout",
     "output_type": "stream",
     "text": [
      "[ 4.04891734 -0.69202147 -0.35689587]\n"
     ]
    }
   ],
   "source": [
    "#Valores propios esperados ~[4.049,-0.357, -0.692]\n",
    "A = np.array( [ [1,1,2], [2,1,3], [1,1,1]  ])\n",
    "eigenvalues = metodoQR(A)\n",
    "print(eigenvalues)"
   ]
  },
  {
   "cell_type": "code",
   "execution_count": null,
   "metadata": {},
   "outputs": [
    {
     "name": "stdout",
     "output_type": "stream",
     "text": [
      "[ 4.40267883 -0.71870969  0.31603086]\n"
     ]
    }
   ],
   "source": [
    "#Valores propios esperados ~[4.403, 0.316, -0.719]\n",
    "A = np.array( [ [2,1,2], [2,1,3], [1,1,1]  ])\n",
    "eigenvalues = metodoQR(A)\n",
    "print(eigenvalues)"
   ]
  },
  {
   "cell_type": "code",
   "execution_count": null,
   "metadata": {},
   "outputs": [
    {
     "name": "stdout",
     "output_type": "stream",
     "text": [
      "[ 6.63453446  1.50856334 -0.73564154 -0.40745627]\n"
     ]
    }
   ],
   "source": [
    "#Valores propios esperados ~[-0.736, -0.407, 1.509, 6.635]\n",
    "A = np.array( [ [1,1,1,2], [2,1,1,1], [3,2,1,2], [2,1,1,4]  ])\n",
    "eigenvalues = metodoQR(A)\n",
    "print(eigenvalues)"
   ]
  },
  {
   "cell_type": "code",
   "execution_count": null,
   "metadata": {},
   "outputs": [
    {
     "name": "stdout",
     "output_type": "stream",
     "text": [
      "[ 6.82726225  1.72811591 -1.08793492 -0.46744323]\n"
     ]
    }
   ],
   "source": [
    "#Valores propios esperados ~[-1.088, -0.467, 1.728, 6.827]\n",
    "A = np.array( [ [1,2,1,2], [2,1,1,1], [3,2,1,2], [2,1,1,4]  ])\n",
    "eigenvalues = metodoQR(A)\n",
    "print(eigenvalues)"
   ]
  }
 ],
 "metadata": {
  "kernelspec": {
   "display_name": "base",
   "language": "python",
   "name": "python3"
  },
  "language_info": {
   "codemirror_mode": {
    "name": "ipython",
    "version": 3
   },
   "file_extension": ".py",
   "mimetype": "text/x-python",
   "name": "python",
   "nbconvert_exporter": "python",
   "pygments_lexer": "ipython3",
   "version": "3.12.7"
  }
 },
 "nbformat": 4,
 "nbformat_minor": 2
}
